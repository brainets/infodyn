{
 "cells": [
  {
   "cell_type": "code",
   "execution_count": null,
   "metadata": {},
   "outputs": [],
   "source": [
    "from frites.simulations import StimSpecAR\n",
    "import matplotlib.pyplot as plt"
   ]
  },
  {
   "cell_type": "code",
   "execution_count": null,
   "metadata": {},
   "outputs": [],
   "source": [
    "ar_type = 'hga'\n",
    "    n_stim = 2\n",
    "    n_epochs = 500\n",
    "\n",
    "    ss = StimSpecAR()\n",
    "    ar = ss.fit(ar_type=ar_type, n_epochs=n_epochs, n_stim=n_stim)\n",
    "\n",
    "    plt.figure(figsize=(7, 8))\n",
    "    ss.plot(cmap='bwr')\n",
    "    plt.tight_layout()\n",
    "    plt.show()\n",
    "\n",
    "    mi_node, unique, infotot, redundancy, synergy = conn_pid(\n",
    "        ar, 'trials', roi='roi', times='times', mi_type='cd', dt=1,\n",
    "        verbose=False)\n",
    "\n",
    "    plt.figure(figsize=(6, 6))\n",
    "\n",
    "    times = unique['times'].data\n",
    "\n",
    "    plt.plot(times, infotot.squeeze(), color='blue', linestyle='--',\n",
    "             label=r\"$I_{TOT}$\")\n",
    "    plt.plot(times, redundancy.squeeze(), color='red', label='Red')\n",
    "    plt.plot(times, unique.sel(roi='x').squeeze(), color='orange',\n",
    "             label=r\"$Unique_{X}$\")\n",
    "    plt.plot(times, unique.sel(roi='y').squeeze(), color='purple',\n",
    "             label=r\"$Unique_{Y}$\")\n",
    "    plt.plot(times, synergy.squeeze(), color='green', label=\"Syn\")\n",
    "    plt.legend()\n",
    "\n",
    "    plt.title('PID of task-related comodulation between neural times series')\n",
    "    plt.xlim(-0.1, 0.5)\n",
    "    plt.grid()\n",
    "\n",
    "    plt.show()"
   ]
  }
 ],
 "metadata": {
  "kernelspec": {
   "display_name": "Python 3.9.13 ('base')",
   "language": "python",
   "name": "python3"
  },
  "language_info": {
   "name": "python",
   "version": "3.9.13"
  },
  "orig_nbformat": 4,
  "vscode": {
   "interpreter": {
    "hash": "8125dd998c25f86f426f44dc3f498533a9299476ccdea5bde72f365bca62f47e"
   }
  }
 },
 "nbformat": 4,
 "nbformat_minor": 2
}
